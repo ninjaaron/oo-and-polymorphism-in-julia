{
 "cells": [
  {
   "cell_type": "markdown",
   "metadata": {},
   "source": [
    "## Composition and Encapsuation\n",
    "\n",
    "As mentioned in the previous section, in my view, the foundations of object orientation are data composition and encapsulation, which most languages support to varying degrees. In classical OO, classes provide both. In Julia, composition is provided by structs, where encapsulation is provided by function methods (i.e. multiple dispatch).\n",
    "\n",
    "### Structs\n",
    "\n",
    "Composite data types in Julia are defined as `struct`s, very much as in C. Like C structs, they contain data fields and no methods. Unlike C, the definition of a struct always creates a new named data type (or type constructor, but more on that later). Here's an example of defining a struct and initializing an instance in Julia:"
   ]
  },
  {
   "cell_type": "code",
   "execution_count": 1,
   "metadata": {},
   "outputs": [
    {
     "data": {
      "text/plain": [
       "Point(5.0, 7.0)"
      ]
     },
     "execution_count": 1,
     "metadata": {},
     "output_type": "execute_result"
    }
   ],
   "source": [
    "# declare your struct\n",
    "struct Point\n",
    "    x::Float64\n",
    "    y::Float64\n",
    "end\n",
    "\n",
    "mypoint = Point(5, 7)"
   ]
  },
  {
   "cell_type": "markdown",
   "metadata": {},
   "source": [
    "It's probably obvious, but this defines a `Point` type that contains the fields `x` and `y`, both of which are instances of Float64. `mypoint` is an instance of Point where `x` = 5.0 and `y` = 7.0.\n",
    "\n",
    "**Note on type declarations in fields:**\n",
    "\n",
    "> Fields of structs in Julia don't need to have type declarations. You could write this instead:\n",
    ">\n",
    "> ```julia\n",
    "struct Point\n",
    "    x\n",
    "    y\n",
    "end\n",
    ">```\n",
    ">\n",
    "> However, type declarations on stucts (*not* on functions) are important for how Julia's optimizing compiler works (with type inference), so we're always going to use them in this tutorial. There will be more about creating inferable structs in the section on polymorphism.\n",
    "\n",
    "Next, let's look at attribute access:"
   ]
  },
  {
   "cell_type": "code",
   "execution_count": 2,
   "metadata": {},
   "outputs": [
    {
     "data": {
      "text/plain": [
       "5.0"
      ]
     },
     "execution_count": 2,
     "metadata": {},
     "output_type": "execute_result"
    }
   ],
   "source": [
    "mypoint.x"
   ]
  },
  {
   "cell_type": "markdown",
   "metadata": {},
   "source": [
    "So, that's easy and similar to other languages. You just use the object followed by a period and the name of the field. What if we want to change an attribute?"
   ]
  },
  {
   "cell_type": "code",
   "execution_count": 3,
   "metadata": {},
   "outputs": [
    {
     "ename": "ErrorException",
     "evalue": "setfield! immutable struct of type Point cannot be changed",
     "output_type": "error",
     "traceback": [
      "setfield! immutable struct of type Point cannot be changed",
      "",
      "Stacktrace:",
      " [1] setproperty!(::Point, ::Symbol, ::Float64) at ./sysimg.jl:19",
      " [2] top-level scope at In[3]:1"
     ]
    }
   ],
   "source": [
    "mypoint.x = 3.0"
   ]
  },
  {
   "cell_type": "markdown",
   "metadata": {},
   "source": [
    "Oh dear, an error! Actually, this is a good thing. Structs in Julia are immutable by default. This is useful for a point, because a point only ever is what it is. If one of the coordinates changes, it's a different point. But let's say we want to make a starship (and nevermind that it's location would also have a z axis). Its location could change. For that, you need a mutable struct:"
   ]
  },
  {
   "cell_type": "code",
   "execution_count": 4,
   "metadata": {},
   "outputs": [
    {
     "data": {
      "text/plain": [
       "Starship(\"U.S.S. Enterprise\", Point(5.0, 7.0))"
      ]
     },
     "execution_count": 4,
     "metadata": {},
     "output_type": "execute_result"
    }
   ],
   "source": [
    "mutable struct Starship\n",
    "    name::String\n",
    "    location::Point\n",
    "end\n",
    "\n",
    "ship = Starship(\"U.S.S. Enterprise\", Point(5, 7))"
   ]
  },
  {
   "cell_type": "markdown",
   "metadata": {},
   "source": [
    "We can move our ship by changing the location:"
   ]
  },
  {
   "cell_type": "code",
   "execution_count": 5,
   "metadata": {},
   "outputs": [
    {
     "data": {
      "text/plain": [
       "Point(6.0, 8.0)"
      ]
     },
     "execution_count": 5,
     "metadata": {},
     "output_type": "execute_result"
    }
   ],
   "source": [
    "ship.location = Point(6, 8)"
   ]
  },
  {
   "cell_type": "markdown",
   "metadata": {},
   "source": [
    "In general, you should prefer to use immutable structs because they are easier to reason about (especially in concurrent contexts).\n",
    "\n",
    "Now, having to use the `Point` constructor when we initialize our starship is kind of annoying. We can declare alternative constructors:"
   ]
  },
  {
   "cell_type": "code",
   "execution_count": 6,
   "metadata": {},
   "outputs": [
    {
     "data": {
      "text/plain": [
       "Starship(\"U.S.S. Defiant\", Point(10.0, 2.0))"
      ]
     },
     "execution_count": 6,
     "metadata": {},
     "output_type": "execute_result"
    }
   ],
   "source": [
    "Starship(name, x, y) = Starship(name, Point(x, y))\n",
    "\n",
    "othership = Starship(\"U.S.S. Defiant\", 10, 2)"
   ]
  },
  {
   "cell_type": "markdown",
   "metadata": {},
   "source": [
    "Julia also provides internal constructors, which *must* be used in the creation of new structs, using `new`. They are only needed in a few cases, which will be covered later, but here is a quick example:"
   ]
  },
  {
   "cell_type": "code",
   "execution_count": 7,
   "metadata": {},
   "outputs": [
    {
     "data": {
      "text/plain": [
       "FancyStarship(\"U.S.S. Discovery\", Point(14.0, 32.0))"
      ]
     },
     "execution_count": 7,
     "metadata": {},
     "output_type": "execute_result"
    }
   ],
   "source": [
    "mutable struct FancyStarship\n",
    "    name::String\n",
    "    location::Point\n",
    "    FancyStarship(name, x, y) = new(name, Point(x, y))\n",
    "end\n",
    "\n",
    "fancy = FancyStarship(\"U.S.S. Discovery\", 14, 32)"
   ]
  },
  {
   "cell_type": "markdown",
   "metadata": {},
   "source": [
    "However:"
   ]
  },
  {
   "cell_type": "code",
   "execution_count": 8,
   "metadata": {},
   "outputs": [
    {
     "ename": "MethodError",
     "evalue": "MethodError: no method matching FancyStarship(::String, ::Point)\nClosest candidates are:\n  FancyStarship(::Any, ::Any, !Matched::Any) at In[7]:4",
     "output_type": "error",
     "traceback": [
      "MethodError: no method matching FancyStarship(::String, ::Point)\nClosest candidates are:\n  FancyStarship(::Any, ::Any, !Matched::Any) at In[7]:4",
      "",
      "Stacktrace:",
      " [1] top-level scope at In[8]:1"
     ]
    }
   ],
   "source": [
    "FancyStarship(\"U.S.S. Ticonderoga\", Point(14, 32))"
   ]
  },
  {
   "cell_type": "markdown",
   "metadata": {},
   "source": [
    "As you see, adding internal constructors means the basic constructor is no longer available to the outside. I typically only use internal constructors if using the basic constructor directly would somehow violate the purpose of the object."
   ]
  },
  {
   "cell_type": "markdown",
   "metadata": {},
   "source": [
    "### Methods\n",
    "\n",
    "Generally, you want to provide a simple interface for your types so the user doesn't have to care about how it's implemented, just how to use it. Before, we moved our starship by changing its location directly, but our users shouldn't have to care about the internal data layout of our struct, so we can just give them a move function."
   ]
  },
  {
   "cell_type": "code",
   "execution_count": 9,
   "metadata": {},
   "outputs": [
    {
     "name": "stdout",
     "output_type": "stream",
     "text": [
      "Starship(\"Foo\", Point(4.060660171779821, 5.060660171779821))\n"
     ]
    }
   ],
   "source": [
    "# I'm not a math person, and I nearly broke my head trying\n",
    "# to find the right formula.\n",
    "function move!(starship, heading, distance)\n",
    "    old = starship.location\n",
    "    x = distance * cosd(heading)\n",
    "    y = distance * sind(heading)\n",
    "    starship.location = Point(old.x + x, old.y + y)\n",
    "end\n",
    "\n",
    "ship = Starship(\"Foo\", 3, 4)\n",
    "move!(ship, 45, 1.5)\n",
    "println(ship)"
   ]
  },
  {
   "cell_type": "markdown",
   "metadata": {},
   "source": [
    "And so the good ship Foo sails through the stars. The function name `move!` has an exclamation point at the end not because of my enthusiasm for trigonometry, but to indicate that it has *side effects*; i.e. it changes an object in place. This is not a rule in Julia, but it's a convention used in the standard library and elsewhere, and you should follow so it's easier to identify such functions.\n",
    "\n",
    "Of course, `move!` is a very general function name, so you might want to add a type constraint to make sure you only get starships: `function move!(ship::Starship, heading, distance)`\n",
    "\n",
    "**Note on data hiding:**\n",
    "\n",
    "> Julia does not enforce data hiding, so anyone can access your fields directly. The convention is like Python: If a field's name starts with an underscore, you should consider it an implementation detail, and it is subject to change and produce strange effects if you mess with it. Use this convention in your own code.\n",
    ">\n",
    "> Immutable structs (the default) keep you from changing data that should be considered private, but it is still possible to act on its value which is also bad since the implementation could change.\n",
    "> As a user of libraries, unless you're writing code that only has to run once, I would suggest not touching anyone else's data fields unless you're directed to do so in the library's documentation--whether or not they start with an underscore.\n",
    ">\n",
    "> You can make it more difficult to access fields on your structs by overloading `setproperty!` and `getproperty` methods for your type, but it's a bit overkill, and will require using `setfield!` and `getfield` in your own methods. Of course, others can use the same technique to access you're fields. It's basically the equivalent of a \"No Trespassing\" sign.\n",
    "\n",
    "Anyway, you can add additional methods to any function--yes, the methods belong to the functions in Julia. Let's make some rectangles. (I have no idea why all my examples involve geometry, since I don't know anything about it)."
   ]
  },
  {
   "cell_type": "code",
   "execution_count": 10,
   "metadata": {},
   "outputs": [
    {
     "name": "stdout",
     "output_type": "stream",
     "text": [
      "area(r) = 12.0\n",
      "area(s) = 9.0\n"
     ]
    }
   ],
   "source": [
    "struct Rectangle\n",
    "    width::Float64\n",
    "    height::Float64\n",
    "end\n",
    "width(r::Rectangle) = r.width\n",
    "height(r::Rectangle) = r.height\n",
    "\n",
    "struct Square\n",
    "    length::Float64\n",
    "end\n",
    "width(s::Square) = s.length\n",
    "height(s::Square) = s.length\n",
    "\n",
    "area(shape) = width(shape) * height(shape)\n",
    "\n",
    "r = Rectangle(3, 4)\n",
    "s = Square(3)\n",
    "@show area(r)\n",
    "@show area(s);"
   ]
  },
  {
   "cell_type": "markdown",
   "metadata": {},
   "source": [
    "So, if we wanted to to save some space, we could represent a square using the length of only one side, and we define `width` and `height` methods for it that return the same attribute, where as the implementation of width and height for rectangles needs to return distinct values.\n",
    "\n",
    "When we define the `area` function, we don't need to care whether it's for a square or a rectangle. The Julia compiler selects the correct method for the type when it's needed. It doesn't matter what the type is, so long as it provides the correct interface. We are beginning to leak into the topic of polymorphism, so let's [head over that way](polymorphism.ipynb)."
   ]
  }
 ],
 "metadata": {
  "@webio": {
   "lastCommId": null,
   "lastKernelId": null
  },
  "kernelspec": {
   "display_name": "Julia 1.1.1",
   "language": "julia",
   "name": "julia-1.1"
  },
  "language_info": {
   "file_extension": ".jl",
   "mimetype": "application/julia",
   "name": "julia",
   "version": "1.1.1"
  }
 },
 "nbformat": 4,
 "nbformat_minor": 2
}
